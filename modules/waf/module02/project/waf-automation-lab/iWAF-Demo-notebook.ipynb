{
 "cells": [
  {
   "cell_type": "markdown",
   "metadata": {},
   "source": [
    "<img src=\"files/Avi_logo.png\">"
   ]
  },
  {
   "cell_type": "markdown",
   "metadata": {},
   "source": [
    "<br>\n",
    "<br>\n",
    "<br>\n",
    "<br>\n",
    "<br>\n",
    "<br>\n",
    "<br>\n",
    "<br>\n",
    "<br>\n",
    "<br>\n",
    "<br>\n",
    "<br>\n",
    "\n",
    "<center>\n",
    "<h1> VMware NSX Advanced Load Balancer (Avi Networks): <br> Web Application Firewall Lab Guide, Part 2 </h1> \n",
    "</center>\n",
    "\n",
    "<br>\n",
    "<br>\n",
    "<br>\n",
    "<br>\n",
    "<br>\n",
    "<br>\n",
    "<br>\n",
    "<br>\n",
    "<br>\n",
    "<br>\n",
    "<br>\n",
    "<br>\n",
    "\n",
    "## Lab Overview\n",
    "\n",
    "This Lab Environment uses the same setup as in **Part 1** and focuses on automation **running python code**. <br>\n",
    "To do so in convenient form, we will run python in the The Jupyter Notebook environment (this page). <br>\n",
    "Jupyter Notebook itself runs in a docker container on the SA-SERVER-04. <br>\n",
    "Python code from here will trigger the API calls to Avi Controller A which will in its turn will configure the iWAF functionality.\n",
    "\n",
    "<br>\n",
    "<br>\n",
    "<br>\n",
    "\n",
    "<img src=\"files/lab_overview.png\">\n",
    "\n",
    "<br>\n",
    "<br>\n",
    "\n",
    "* To run the code, click on it, making selection green\n",
    "\n",
    "<img src=\"files/code_sample.png\">\n",
    "<br>\n",
    "\n",
    "* Then click the Run button:\n",
    "<br>\n",
    "\n",
    "<img src=\"files/run_button.png\">\n",
    "\n",
    "<br>\n",
    "<br>\n",
    "\n",
    "* Python Source code for this lab can be found here http://sa-server-04:6789/tree\n",
    "\n",
    "<img src=\"files/jupyter.png\" style=\"width:50px;float:left;\" />\n",
    "\n",
    "Note: <br>\n",
    "The Jupyter Notebook website https://jupyter.org/ <br>\n",
    "Jupyter Notebook Docker Container https://hub.docker.com/r/jupyter/minimal-notebook/\n",
    "\n"
   ]
  },
  {
   "cell_type": "markdown",
   "metadata": {},
   "source": [
    "<br>\n",
    "<br>\n",
    "<br>\n",
    "<br>\n",
    "\n",
    "## <a name=\"CreateEnv\">Lab contents</a>\n",
    "\n",
    "1. [Define Demo Environment](#CreateEnv)\n",
    "2. [Create Virtual Service](#CreateVS)\n",
    "3. [Whitelisting of Requests](#Whitelist)\n",
    " * [WhitelistExamples](#WhitelistExamples)\n",
    "<br />\n",
    "<br />\n",
    "4. [iWAF Learning](#iWAFLearning)\n",
    " * [Setup iWAF Learning](#SetupLearning)\n",
    " * [iWAF Learning Group](#SetupLearningGroup)\n",
    " * [Data Generation: Spider](#Spider)\n",
    " * [Access learned data](#LearnedData)\n",
    " * [Trigger traffic violation](#TrafficViolation)\n",
    "<br />\n",
    "<br />\n",
    "5. [Signatures](#Signatures)\n",
    "6. [Exclusions](#Exclusions)\n",
    "<br />\n",
    "<br />\n",
    "7. [Cleanup of Demo System](#Cleanup)\n",
    "\n",
    "<br />"
   ]
  },
  {
   "cell_type": "markdown",
   "metadata": {},
   "source": [
    "## <a name=\"CreateEnv\">Define the Demo Environment</a>\n",
    "\n",
    "The following Python Code Block defines the parameters for the Demo Environment.\n",
    "\n",
    "* To run the code, click on it, making selection green, and then click **Run** on the top of the page"
   ]
  },
  {
   "cell_type": "code",
   "execution_count": 49,
   "metadata": {
    "scrolled": false
   },
   "outputs": [
    {
     "name": "stdout",
     "output_type": "stream",
     "text": [
      "Successful. Session ID:1byfwok5ungmd3rh4p7mkjr5xgui29g0\n"
     ]
    }
   ],
   "source": [
    "Controller_Version = \"18.2.6\"\n",
    "\n",
    "### Import Demo Environment Variables\n",
    "\n",
    "from jupyter_demo_envs import demo_env_vmware_lab as demo_env\n",
    "#hackazon_vip = demo_env['vses']['Hackazon']['vip_ip']\n",
    "hackazon_vip = demo_env['vses']['Hackazon']['vs_fqdn']\n",
    "\n",
    "### Import python packages to setup Demo environment.\n",
    "\n",
    "from jupyter_demo_imports import *\n",
    "\n",
    "### Test Connection to Controller\n",
    "#The api object will serve as the interface to the Controller.\n",
    "\n",
    "api = ApiSession.get_session(\n",
    "    controller_ip=demo_env['controller_ip'],\n",
    "    username=demo_env['controller_username'],\n",
    "    password=demo_env['controller_password'],\n",
    "    tenant=demo_env['tenant'],\n",
    "    api_version=demo_env['api_version']\n",
    "    )\n",
    "print('Successful. Session ID:' + api.session_id)"
   ]
  },
  {
   "cell_type": "markdown",
   "metadata": {},
   "source": [
    "When this is successful, the connection to the Controller is up and running."
   ]
  },
  {
   "cell_type": "markdown",
   "metadata": {},
   "source": [
    "## <a name=\"CreateVS\">Create the Virtual Services for our Application</a>\n",
    "\n",
    "<img src=\"files/demo_overview.png\" style=\"width:800px\">"
   ]
  },
  {
   "cell_type": "markdown",
   "metadata": {},
   "source": [
    "* Run the following code to setup Virtual Services, WAF Profile, WAF Policy, Error Page Profile"
   ]
  },
  {
   "cell_type": "code",
   "execution_count": 24,
   "metadata": {
    "scrolled": false
   },
   "outputs": [
    {
     "name": "stdout",
     "output_type": "stream",
     "text": [
      "Data for Testbed Vmware_lab\n",
      "Controller IP: sa-avicon-01.vclass.local\n",
      "DVWA VIP: 172.20.120.250\n",
      "DVWA FQDN: WAF-DVWA-VS.sa.vclass.local\n",
      "Hackazon VIP: 172.20.120.251\n",
      "Hackazon FQDN: waf-hackazon-vs.sa.vclass.local\n",
      "Setting up Demo VS:DVWA\n",
      "- Create Pool <Response [201]>\n",
      "- Create new WAF profile <Response [201]>\n",
      "- Create new WAF Policy <Response [201]>\n",
      "- Create new Error Page Profile <Response [201]>\n",
      "- Create new Response Data Script <Response [201]>\n",
      "- Create VS with new WAF Policy <Response [201]>\n",
      "Setting up Demo VS:Hackazon\n",
      "- Create Pool <Response [201]>\n",
      "- Create new WAF profile <Response [201]>\n",
      "- Create new WAF Policy <Response [201]>\n",
      "- Create new Error Page Profile <Response [201]>\n",
      "- Create new Response Data Script <Response [201]>\n",
      "- Create VS with new WAF Policy <Response [201]>\n",
      "Setup done.\n"
     ]
    }
   ],
   "source": [
    "tb = testbed_setup(demo_env)"
   ]
  },
  {
   "cell_type": "markdown",
   "metadata": {},
   "source": [
    "The Demo Environment creates 2 Virtual Services that will host the following Applications.\n",
    "\n",
    "1. Hackazon waf-hackazon-vs.sa.vclass.local\n",
    "\n",
    "2. DWVA WAF-DVWA-VS.sa.vclass.local\n",
    "\n",
    "Both are vulnerable applications to test the capabilities of a skilled attacker or a defense tool like iWAF.\n",
    "\n",
    "With the enablement of the these Virtual Services it also creates the appropriate WAF Profile and WAF Policy for the Protection."
   ]
  },
  {
   "cell_type": "markdown",
   "metadata": {},
   "source": [
    "**The demo follows the iWAF pipeline:**\n",
    "<img src=\"files/pipeline.png\" style=\"width:800px\" />\n",
    "\n",
    "**First in the pipeline is the WAF Policy Whitelist:**"
   ]
  },
  {
   "cell_type": "markdown",
   "metadata": {},
   "source": [
    "##  <a name=\"Whitelist\">Whitelist</a>\n",
    "\n",
    "<img src=\"files/overview_whitelist.png\" style=\"width:800px\" />\n",
    "\n",
    "Whitelist can be used to bypass requests from WAF inspection.\n",
    "Use cases would be:\n",
    "\n",
    "* Bypassing a particular URL (Upload URL or otherwise)\n",
    "* Bypassing a particular IP address - Enable direct access for security scanner\n",
    "* Bypassing HTTP Methods\n",
    "* Set WAF mode for specific requests to Detection.\n",
    "<br>\n",
    "\n",
    "* Run the following code to change WAF policy mode to **ENFORCEMENT**:"
   ]
  },
  {
   "cell_type": "code",
   "execution_count": 25,
   "metadata": {},
   "outputs": [
    {
     "data": {
      "text/plain": [
       "<Response [200]>"
      ]
     },
     "execution_count": 25,
     "metadata": {},
     "output_type": "execute_result"
    }
   ],
   "source": [
    "change_policy_mode(api, demo_env, \"Hackazon\", \"WAF_MODE_ENFORCEMENT\")"
   ]
  },
  {
   "cell_type": "markdown",
   "metadata": {},
   "source": [
    "* Run the following code to issue an attack to Virtual Service waf-hackazon-vs.sa.vclass.local and observe Stasus Code 403 and **REJECTED** in the logs"
   ]
  },
  {
   "cell_type": "code",
   "execution_count": 26,
   "metadata": {
    "scrolled": true
   },
   "outputs": [
    {
     "name": "stdout",
     "output_type": "stream",
     "text": [
      "https://waf-hackazon-vs.sa.vclass.local/contact\n",
      "Request status code: 403\n",
      "Fetching Request-ID\n",
      "Request-ID of the request: 6G2-rCOQ-h9Fj\n"
     ]
    },
    {
     "data": {
      "text/plain": [
       "'6G2-rCOQ-h9Fj'"
      ]
     },
     "execution_count": 26,
     "metadata": {},
     "output_type": "execute_result"
    }
   ],
   "source": [
    "payload = \"contact_name=test&contact_email=test@example.com&contact_phone=555&contact_message=%3Cscript%3Ealert%28%22Alert%22%29%3C/script%3E&save=contact\"\n",
    "url = f'https://{hackazon_vip}/contact'    \n",
    "send_post(url, payload, headers = demo_env['headers'], proxies = demo_env['proxies'])"
   ]
  },
  {
   "cell_type": "markdown",
   "metadata": {},
   "source": [
    "* Examine Virtual Service **WAF-Hackazon-VS** to verify that attack was REJECTED\n",
    "\n",
    "<img src=\"files/waf_log_1.png\" style=\"width:800px\" />"
   ]
  },
  {
   "cell_type": "markdown",
   "metadata": {},
   "source": [
    "### <a name=\"WhitelistExamples\">Whitelist Examples</a>"
   ]
  },
  {
   "cell_type": "markdown",
   "metadata": {},
   "source": [
    "* Run the following code. It will create a whitelist rules for css files, IPs and Detection mode for /contact URI"
   ]
  },
  {
   "cell_type": "code",
   "execution_count": 27,
   "metadata": {
    "scrolled": false
   },
   "outputs": [
    {
     "name": "stdout",
     "output_type": "stream",
     "text": [
      "Data for Testbed Vmware_lab\n",
      "Controller IP: sa-avicon-01.vclass.local\n",
      "Adding whitelist entries to WAFPolicy:\n",
      "<Response [200]>\n",
      "Added Whitelist rules for css files, IPs and Detection mode for /contact\n"
     ]
    }
   ],
   "source": [
    "add_whitelist_examples(demo_env, headers = demo_env['headers'], proxies = demo_env['proxies'])"
   ]
  },
  {
   "cell_type": "markdown",
   "metadata": {},
   "source": [
    "* Navigate to Templates > WAF > WAF Policy and edit **WAF-HackazonPolicy**, go to Whitelist tab, to verify the rules\n",
    "* Examine Whitelist tab of WAF Policy **WAF-HackazonPolicy**\n",
    "\n",
    "<img src=\"files/waf_white_1.png\"/>"
   ]
  },
  {
   "cell_type": "markdown",
   "metadata": {},
   "source": [
    "* A css files whitelist has been installed. Lets trigger it by running the following code:"
   ]
  },
  {
   "cell_type": "code",
   "execution_count": 28,
   "metadata": {},
   "outputs": [
    {
     "name": "stdout",
     "output_type": "stream",
     "text": [
      "https://waf-hackazon-vs.sa.vclass.local/css/bootstrap.css\n",
      "Request status code: 200\n",
      "Fetching Request-ID\n"
     ]
    },
    {
     "data": {
      "text/plain": [
       "'3cx-xAc5-42rL'"
      ]
     },
     "execution_count": 28,
     "metadata": {},
     "output_type": "execute_result"
    }
   ],
   "source": [
    "url = f'https://{hackazon_vip}/css/bootstrap.css'\n",
    "send_get(url, headers = demo_env['headers'], proxies = demo_env['proxies'])"
   ]
  },
  {
   "cell_type": "markdown",
   "metadata": {},
   "source": [
    "* Now run a request that will be handled in Detection mode even when the rest of the Policy is in Enforcement."
   ]
  },
  {
   "cell_type": "code",
   "execution_count": 29,
   "metadata": {},
   "outputs": [
    {
     "name": "stdout",
     "output_type": "stream",
     "text": [
      "https://waf-hackazon-vs.sa.vclass.local/contact\n",
      "Request status code: 200\n",
      "Fetching Request-ID\n"
     ]
    },
    {
     "data": {
      "text/plain": [
       "'ddb-aJfN-jI60'"
      ]
     },
     "execution_count": 29,
     "metadata": {},
     "output_type": "execute_result"
    }
   ],
   "source": [
    "payload = \"contact_name=test&contact_email=test@example.com&contact_phone=555&contact_message=%3Cscript%3Ealert%28%22Alert%22%29%3C/script%3E&save=contact\"\n",
    "url = f'https://{hackazon_vip}/contact'    \n",
    "send_post(url, payload, headers = demo_env['headers'], proxies = demo_env['proxies'])"
   ]
  },
  {
   "cell_type": "markdown",
   "metadata": {},
   "source": [
    "* Status code 200 suggests that request is being permitted.\n",
    "\n"
   ]
  },
  {
   "cell_type": "markdown",
   "metadata": {},
   "source": [
    "# <a name=\"iWAFLearning\">Positive Security with Learning input</a>\n",
    "\n",
    "Positive Security with Learning was released in 18.2.6.\n",
    "\n",
    "When enabled it will learn the application behavior and auto promote rules to enforce that learned behavior.\n",
    "\n",
    "<img src=\"files/overview_psm.png\" style=\"width:800px\" />"
   ]
  },
  {
   "cell_type": "markdown",
   "metadata": {},
   "source": [
    "## <a name=\"SetupLearning\">Setup Learning</a>\n",
    "\n",
    "Goal: Setting start the Learning Engine to generate data for the Positive Security.\n",
    "\n",
    "* Run the following code to Enable Learning parameters on WAF-HackazonProfile"
   ]
  },
  {
   "cell_type": "code",
   "execution_count": 30,
   "metadata": {
    "scrolled": true
   },
   "outputs": [
    {
     "name": "stdout",
     "output_type": "stream",
     "text": [
      "Data for Testbed Vmware_lab\n",
      "Controller IP: sa-avicon-01.vclass.local\n",
      "DVWA VIP: 172.20.120.250\n",
      "Hackazon VIP: 172.20.120.251\n",
      "Enable Learning on Policy - WAF-HackazonPolicy and Profile - WAF-HackazonProfile\n",
      "Result: 200 OK\n"
     ]
    }
   ],
   "source": [
    "setup_learning(demo_env, headers = demo_env['headers'], proxies = demo_env['proxies']) "
   ]
  },
  {
   "cell_type": "markdown",
   "metadata": {},
   "source": [
    "To function in a Demo (time constraint) these configuration items need to be set.\n",
    "\n",
    "WAF Profile now contains:\n",
    "\n",
    "**Confidence level**<br />\n",
    "Defines what the level of confidence that is needed for a rule to be auto-promoted.\n",
    "\n",
    "**Other:**\n",
    "* Sampling = 100 % -> All requests are analyzed\n",
    "* Update_interval = 1 -> Time for the Service Engine to collect data before sending\n",
    "* min_hits_to_learn = 10 -> Low threshold to allow learning to happen faster. Default is 10k."
   ]
  },
  {
   "cell_type": "markdown",
   "metadata": {},
   "source": [
    "### <a name=\"SetupLearningGroup\">Create PSM Group and enable learning completely - change defaults</a>\n"
   ]
  },
  {
   "cell_type": "code",
   "execution_count": 31,
   "metadata": {
    "scrolled": false
   },
   "outputs": [
    {
     "name": "stdout",
     "output_type": "stream",
     "text": [
      "'PSMGroup WAF-Hackazon_Learning_Group_Demo has been set.'\n"
     ]
    }
   ],
   "source": [
    "setup_positive_security_group(api, demo_env, \n",
    "                              headers = demo_env['headers'], \n",
    "                              proxies = demo_env['proxies'])"
   ]
  },
  {
   "cell_type": "markdown",
   "metadata": {},
   "source": [
    "###  <a name=\"Spider\">Run spider</a>\n",
    "\n",
    "<img src=\"files/zappy.png\" style=\"width:800px\" />\n",
    "\n",
    "Please use number of loops to define the amount of traffic generated. (min. 2 required)"
   ]
  },
  {
   "cell_type": "code",
   "execution_count": 32,
   "metadata": {
    "scrolled": true
   },
   "outputs": [
    {
     "name": "stdout",
     "output_type": "stream",
     "text": [
      "Accessing target http://waf-hackazon-vs.sa.vclass.local\n",
      "Spidering target http://waf-hackazon-vs.sa.vclass.local\n",
      "Spider progress %: 99\n",
      "Spider completed\n",
      "Spidering target http://waf-hackazon-vs.sa.vclass.local\n",
      "Spider progress %: 99\n",
      "Spider completed\n",
      "All Spider runs completed\n"
     ]
    }
   ],
   "source": [
    "run_zap_spider(target=\"http://\" + hackazon_vip , proxy=demo_env['zap_proxy'], loop=2)"
   ]
  },
  {
   "cell_type": "markdown",
   "metadata": {},
   "source": [
    "###  <a name=\"LearnedData\">Access Learned Data</a>"
   ]
  },
  {
   "cell_type": "markdown",
   "metadata": {},
   "source": [
    "Direct API request to see raw data"
   ]
  },
  {
   "cell_type": "code",
   "execution_count": 33,
   "metadata": {
    "scrolled": true
   },
   "outputs": [
    {
     "name": "stdout",
     "output_type": "stream",
     "text": [
      "Current learning meta data:\n",
      "{'duration': '0 hrs, 7 mins',\n",
      " 'pct_high_confidence_params': 94.0,\n",
      " 'total_params': 285,\n",
      " 'total_requests': 4220,\n",
      " 'total_uris': 337}\n"
     ]
    }
   ],
   "source": [
    "print_learned_data(demo_env, api, headers = demo_env['headers'], proxies = demo_env['proxies'])"
   ]
  },
  {
   "cell_type": "markdown",
   "metadata": {},
   "source": [
    "The Data shows that the current learning meta data.\n",
    "* Duration -> how long has learning been active\n",
    "* High Confidence Parameters -> those will be auto-promoted\n",
    "* Total Requests seen\n",
    "* Total URIs seen"
   ]
  },
  {
   "cell_type": "markdown",
   "metadata": {},
   "source": [
    "###  <a name=\"AppMap\">Print Learned Application Map</a>\n",
    "\n",
    "Listing all found URLs with number of corresponding params."
   ]
  },
  {
   "cell_type": "code",
   "execution_count": 34,
   "metadata": {},
   "outputs": [
    {
     "name": "stdout",
     "output_type": "stream",
     "text": [
      "/wishlist/view/54\n",
      "   Params found: 5\n",
      "/wishlist/view/49\n",
      "   Params found: 5\n",
      "/wishlist/view/31\n",
      "   Params found: 5\n",
      "/wishlist/view/26\n",
      "   Params found: 5\n",
      "/user/login\n",
      "   Params found: 1\n",
      "/wishlist/view/8\n",
      "   Params found: 5\n",
      "/faq\n",
      "   Params found: 3\n",
      "/wishlist/view/22\n",
      "   Params found: 5\n",
      "/wishlist/view/48\n",
      "   Params found: 5\n",
      "/category/view\n",
      "   Params found: 1\n",
      "/css/nivo-themes/light/\n",
      "   Params found: 1\n",
      "/wishlist/view/62\n",
      "   Params found: 5\n",
      "/wishlist/view/20\n",
      "   Params found: 5\n",
      "/css/nivo-themes/\n",
      "   Params found: 1\n",
      "/wishlist/view/45\n",
      "   Params found: 5\n",
      "/wishlist/view/46\n",
      "   Params found: 5\n",
      "/wishlist/view/36\n",
      "   Params found: 5\n",
      "/wishlist/view/55\n",
      "   Params found: 5\n",
      "/wishlist/view/37\n",
      "   Params found: 5\n",
      "/wishlist/view/53\n",
      "   Params found: 5\n",
      "/css/\n",
      "   Params found: 1\n",
      "/wishlist/view/56\n",
      "   Params found: 5\n",
      "/wishlist/view/9\n",
      "   Params found: 5\n",
      "/wishlist/view/60\n",
      "   Params found: 5\n",
      "/wishlist/view/50\n",
      "   Params found: 5\n",
      "/wishlist/view/52\n",
      "   Params found: 5\n",
      "/wishlist/view/57\n",
      "   Params found: 5\n",
      "/wishlist/view/4\n",
      "   Params found: 5\n",
      "/wishlist/view/61\n",
      "   Params found: 5\n",
      "/wishlist/view/25\n",
      "   Params found: 5\n",
      "/wishlist/view/23\n",
      "   Params found: 5\n",
      "/wishlist/view/39\n",
      "   Params found: 5\n",
      "/wishlist/view/59\n",
      "   Params found: 5\n",
      "/wishlist/view/33\n",
      "   Params found: 5\n",
      "/wishlist/view/30\n",
      "   Params found: 5\n",
      "/wishlist/view/42\n",
      "   Params found: 5\n",
      "/wishlist/view/21\n",
      "   Params found: 5\n",
      "/wishlist/view/63\n",
      "   Params found: 5\n",
      "/search\n",
      "   Params found: 5\n",
      "/wishlist/view/35\n",
      "   Params found: 5\n",
      "/wishlist/view/51\n",
      "   Params found: 5\n",
      "/wishlist/view/3\n",
      "   Params found: 5\n",
      "/wishlist/view/58\n",
      "   Params found: 5\n",
      "/contact\n",
      "   Params found: 5\n",
      "/wishlist/view/28\n",
      "   Params found: 5\n",
      "/product/view\n",
      "   Params found: 1\n",
      "/wishlist/view/43\n",
      "   Params found: 5\n",
      "/wishlist/view/5\n",
      "   Params found: 5\n",
      "/wishlist/view/27\n",
      "   Params found: 5\n",
      "/wishlist\n",
      "   Params found: 5\n",
      "/wishlist/view/29\n",
      "   Params found: 5\n",
      "/wishlist/view/44\n",
      "   Params found: 5\n",
      "/css/nivo-themes/bar/\n",
      "   Params found: 1\n",
      "/wishlist/view/6\n",
      "   Params found: 5\n",
      "/wishlist/view/47\n",
      "   Params found: 5\n",
      "/wishlist/view/41\n",
      "   Params found: 5\n",
      "/wishlist/\n",
      "   Params found: 5\n",
      "/wishlist/view/32\n",
      "   Params found: 5\n",
      "/wishlist/view/34\n",
      "   Params found: 5\n",
      "/wishlist/view/38\n",
      "   Params found: 5\n",
      "/wishlist/view/40\n",
      "   Params found: 5\n",
      "/wishlist/view/7\n",
      "   Params found: 5\n",
      "/wishlist/view/24\n",
      "   Params found: 5\n"
     ]
    }
   ],
   "source": [
    "print_application_map(demo_env, api, headers = demo_env['headers'], proxies = demo_env['proxies'])"
   ]
  },
  {
   "cell_type": "markdown",
   "metadata": {},
   "source": [
    "###  <a name=\"ReviewRules\">Review Auto-programmed rules</a>\n",
    "\n",
    "When the confidence level is reached for any learned data, it will be auto-promoted to a rule."
   ]
  },
  {
   "cell_type": "code",
   "execution_count": 35,
   "metadata": {
    "scrolled": false
   },
   "outputs": [
    {
     "name": "stdout",
     "output_type": "stream",
     "text": [
      "/category/view\n",
      "   id\n",
      "    Pattern: ^[0-9]*$\n",
      "    Length : 16\n",
      "/product/view\n",
      "   id\n",
      "    Pattern: ^[0-9]*$\n",
      "    Length : 16\n",
      "/wishlist/view/63\n",
      "   name\n",
      "    Pattern: ^[A-Za-z0-9_-]*$\n",
      "    Length : 16\n",
      "   id\n",
      "    Pattern: ^$\n",
      "    Length : 0\n",
      "   type\n",
      "    Pattern: ^[A-Za-z0-9_-]*$\n",
      "    Length : 16\n",
      "   search\n",
      "    Pattern: ^[A-Za-z0-9_-]*$\n",
      "    Length : 16\n",
      "/wishlist/view/56\n",
      "   name\n",
      "    Pattern: ^[A-Za-z0-9_-]*$\n",
      "    Length : 16\n",
      "   id\n",
      "    Pattern: ^$\n",
      "    Length : 0\n",
      "   type\n",
      "    Pattern: ^[A-Za-z0-9_-]*$\n",
      "    Length : 16\n",
      "   search\n",
      "    Pattern: ^[A-Za-z0-9_-]*$\n",
      "    Length : 16\n",
      "/wishlist/view/44\n",
      "   search\n",
      "    Pattern: ^[A-Za-z0-9_-]*$\n",
      "    Length : 16\n",
      "   name\n",
      "    Pattern: ^[A-Za-z0-9_-]*$\n",
      "    Length : 16\n",
      "   id\n",
      "    Pattern: ^$\n",
      "    Length : 0\n",
      "   type\n",
      "    Pattern: ^[A-Za-z0-9_-]*$\n",
      "    Length : 16\n",
      "/wishlist/view/53\n",
      "   name\n",
      "    Pattern: ^[A-Za-z0-9_-]*$\n",
      "    Length : 16\n",
      "   id\n",
      "    Pattern: ^$\n",
      "    Length : 0\n",
      "   type\n",
      "    Pattern: ^[A-Za-z0-9_-]*$\n",
      "    Length : 16\n",
      "   search\n",
      "    Pattern: ^[A-Za-z0-9_-]*$\n",
      "    Length : 16\n",
      "/wishlist/view/57\n",
      "   name\n",
      "    Pattern: ^[A-Za-z0-9_-]*$\n",
      "    Length : 16\n",
      "   id\n",
      "    Pattern: ^$\n",
      "    Length : 0\n",
      "   type\n",
      "    Pattern: ^[A-Za-z0-9_-]*$\n",
      "    Length : 16\n",
      "   search\n",
      "    Pattern: ^[A-Za-z0-9_-]*$\n",
      "    Length : 16\n",
      "/wishlist/view/5\n",
      "   id\n",
      "    Pattern: ^$\n",
      "    Length : 0\n",
      "   type\n",
      "    Pattern: ^[A-Za-z0-9_-]*$\n",
      "    Length : 16\n",
      "   search\n",
      "    Pattern: ^[A-Za-z0-9_-]*$\n",
      "    Length : 16\n",
      "   name\n",
      "    Pattern: ^[A-Za-z0-9_-]*$\n",
      "    Length : 16\n",
      "/wishlist/view/6\n",
      "   id\n",
      "    Pattern: ^$\n",
      "    Length : 0\n",
      "   type\n",
      "    Pattern: ^[A-Za-z0-9_-]*$\n",
      "    Length : 16\n",
      "   name\n",
      "    Pattern: ^[A-Za-z0-9_-]*$\n",
      "    Length : 16\n",
      "   search\n",
      "    Pattern: ^[A-Za-z0-9_-]*$\n",
      "    Length : 16\n",
      "/wishlist/view/8\n",
      "   id\n",
      "    Pattern: ^$\n",
      "    Length : 0\n",
      "   type\n",
      "    Pattern: ^[A-Za-z0-9_-]*$\n",
      "    Length : 16\n",
      "   name\n",
      "    Pattern: ^[A-Za-z0-9_-]*$\n",
      "    Length : 16\n",
      "   search\n",
      "    Pattern: ^[A-Za-z0-9_-]*$\n",
      "    Length : 16\n",
      "/wishlist/view/55\n",
      "   type\n",
      "    Pattern: ^[A-Za-z0-9_-]*$\n",
      "    Length : 16\n",
      "   name\n",
      "    Pattern: ^[A-Za-z0-9_-]*$\n",
      "    Length : 16\n",
      "   id\n",
      "    Pattern: ^$\n",
      "    Length : 0\n",
      "   search\n",
      "    Pattern: ^[A-Za-z0-9_-]*$\n",
      "    Length : 16\n",
      "/wishlist/view/43\n",
      "   name\n",
      "    Pattern: ^[A-Za-z0-9_-]*$\n",
      "    Length : 16\n",
      "   id\n",
      "    Pattern: ^$\n",
      "    Length : 0\n",
      "   type\n",
      "    Pattern: ^[A-Za-z0-9_-]*$\n",
      "    Length : 16\n",
      "   search\n",
      "    Pattern: ^[A-Za-z0-9_-]*$\n",
      "    Length : 16\n",
      "/wishlist\n",
      "   name\n",
      "    Pattern: ^[A-Za-z0-9_-]*$\n",
      "    Length : 16\n",
      "   id\n",
      "    Pattern: ^$\n",
      "    Length : 0\n",
      "   type\n",
      "    Pattern: ^[A-Za-z0-9_-]*$\n",
      "    Length : 16\n",
      "   search\n",
      "    Pattern: ^[A-Za-z0-9_-]*$\n",
      "    Length : 16\n",
      "/wishlist/view/58\n",
      "   name\n",
      "    Pattern: ^[A-Za-z0-9_-]*$\n",
      "    Length : 16\n",
      "   id\n",
      "    Pattern: ^$\n",
      "    Length : 0\n",
      "   type\n",
      "    Pattern: ^[A-Za-z0-9_-]*$\n",
      "    Length : 16\n",
      "   search\n",
      "    Pattern: ^[A-Za-z0-9_-]*$\n",
      "    Length : 16\n",
      "/wishlist/view/54\n",
      "   name\n",
      "    Pattern: ^[A-Za-z0-9_-]*$\n",
      "    Length : 16\n",
      "   id\n",
      "    Pattern: ^$\n",
      "    Length : 0\n",
      "   type\n",
      "    Pattern: ^[A-Za-z0-9_-]*$\n",
      "    Length : 16\n",
      "   search\n",
      "    Pattern: ^[A-Za-z0-9_-]*$\n",
      "    Length : 16\n",
      "/wishlist/view/61\n",
      "   id\n",
      "    Pattern: ^$\n",
      "    Length : 0\n",
      "   type\n",
      "    Pattern: ^[A-Za-z0-9_-]*$\n",
      "    Length : 16\n",
      "   name\n",
      "    Pattern: ^[A-Za-z0-9_-]*$\n",
      "    Length : 16\n",
      "   search\n",
      "    Pattern: ^[A-Za-z0-9_-]*$\n",
      "    Length : 16\n",
      "/wishlist/view/46\n",
      "   search\n",
      "    Pattern: ^[A-Za-z0-9_-]*$\n",
      "    Length : 16\n",
      "   name\n",
      "    Pattern: ^[A-Za-z0-9_-]*$\n",
      "    Length : 16\n",
      "   id\n",
      "    Pattern: ^$\n",
      "    Length : 0\n",
      "   type\n",
      "    Pattern: ^[A-Za-z0-9_-]*$\n",
      "    Length : 16\n",
      "/wishlist/view/49\n",
      "   id\n",
      "    Pattern: ^$\n",
      "    Length : 0\n",
      "   type\n",
      "    Pattern: ^[A-Za-z0-9_-]*$\n",
      "    Length : 16\n",
      "   search\n",
      "    Pattern: ^[A-Za-z0-9_-]*$\n",
      "    Length : 16\n",
      "   name\n",
      "    Pattern: ^[A-Za-z0-9_-]*$\n",
      "    Length : 16\n",
      "/wishlist/view/48\n",
      "   name\n",
      "    Pattern: ^[A-Za-z0-9_-]*$\n",
      "    Length : 16\n",
      "   id\n",
      "    Pattern: ^$\n",
      "    Length : 0\n",
      "   type\n",
      "    Pattern: ^[A-Za-z0-9_-]*$\n",
      "    Length : 16\n",
      "   search\n",
      "    Pattern: ^[A-Za-z0-9_-]*$\n",
      "    Length : 16\n",
      "/wishlist/view/52\n",
      "   name\n",
      "    Pattern: ^[A-Za-z0-9_-]*$\n",
      "    Length : 16\n",
      "   id\n",
      "    Pattern: ^$\n",
      "    Length : 0\n",
      "   type\n",
      "    Pattern: ^[A-Za-z0-9_-]*$\n",
      "    Length : 16\n",
      "   search\n",
      "    Pattern: ^[A-Za-z0-9_-]*$\n",
      "    Length : 16\n",
      "/wishlist/view/60\n",
      "   type\n",
      "    Pattern: ^[A-Za-z0-9_-]*$\n",
      "    Length : 16\n",
      "   name\n",
      "    Pattern: ^[A-Za-z0-9_-]*$\n",
      "    Length : 16\n",
      "   id\n",
      "    Pattern: ^$\n",
      "    Length : 0\n",
      "   search\n",
      "    Pattern: ^[A-Za-z0-9_-]*$\n",
      "    Length : 16\n",
      "/wishlist/view/62\n",
      "   name\n",
      "    Pattern: ^[A-Za-z0-9_-]*$\n",
      "    Length : 16\n",
      "   id\n",
      "    Pattern: ^$\n",
      "    Length : 0\n",
      "   type\n",
      "    Pattern: ^[A-Za-z0-9_-]*$\n",
      "    Length : 16\n",
      "   search\n",
      "    Pattern: ^[A-Za-z0-9_-]*$\n",
      "    Length : 16\n",
      "/wishlist/view/51\n",
      "   id\n",
      "    Pattern: ^$\n",
      "    Length : 0\n",
      "   type\n",
      "    Pattern: ^[A-Za-z0-9_-]*$\n",
      "    Length : 16\n",
      "   search\n",
      "    Pattern: ^[A-Za-z0-9_-]*$\n",
      "    Length : 16\n",
      "   name\n",
      "    Pattern: ^[A-Za-z0-9_-]*$\n",
      "    Length : 16\n",
      "/wishlist/view/7\n",
      "   name\n",
      "    Pattern: ^[A-Za-z0-9_-]*$\n",
      "    Length : 16\n",
      "   id\n",
      "    Pattern: ^$\n",
      "    Length : 0\n",
      "   type\n",
      "    Pattern: ^[A-Za-z0-9_-]*$\n",
      "    Length : 16\n",
      "   search\n",
      "    Pattern: ^[A-Za-z0-9_-]*$\n",
      "    Length : 16\n",
      "/wishlist/view/50\n",
      "   search\n",
      "    Pattern: ^[A-Za-z0-9_-]*$\n",
      "    Length : 16\n",
      "   name\n",
      "    Pattern: ^[A-Za-z0-9_-]*$\n",
      "    Length : 16\n",
      "   id\n",
      "    Pattern: ^$\n",
      "    Length : 0\n",
      "   type\n",
      "    Pattern: ^[A-Za-z0-9_-]*$\n",
      "    Length : 16\n",
      "/wishlist/view/9\n",
      "   name\n",
      "    Pattern: ^[A-Za-z0-9_-]*$\n",
      "    Length : 16\n",
      "   id\n",
      "    Pattern: ^$\n",
      "    Length : 0\n",
      "   type\n",
      "    Pattern: ^[A-Za-z0-9_-]*$\n",
      "    Length : 16\n",
      "   search\n",
      "    Pattern: ^[A-Za-z0-9_-]*$\n",
      "    Length : 16\n",
      "/wishlist/view/59\n",
      "   name\n",
      "    Pattern: ^[A-Za-z0-9_-]*$\n",
      "    Length : 16\n",
      "   id\n",
      "    Pattern: ^$\n",
      "    Length : 0\n",
      "   type\n",
      "    Pattern: ^[A-Za-z0-9_-]*$\n",
      "    Length : 16\n",
      "   search\n",
      "    Pattern: ^[A-Za-z0-9_-]*$\n",
      "    Length : 16\n",
      "/wishlist/view/47\n",
      "   search\n",
      "    Pattern: ^[A-Za-z0-9_-]*$\n",
      "    Length : 16\n",
      "   name\n",
      "    Pattern: ^[A-Za-z0-9_-]*$\n",
      "    Length : 16\n",
      "   id\n",
      "    Pattern: ^$\n",
      "    Length : 0\n",
      "   type\n",
      "    Pattern: ^[A-Za-z0-9_-]*$\n",
      "    Length : 16\n",
      "/wishlist/view/45\n",
      "   search\n",
      "    Pattern: ^[A-Za-z0-9_-]*$\n",
      "    Length : 16\n",
      "   name\n",
      "    Pattern: ^[A-Za-z0-9_-]*$\n",
      "    Length : 16\n",
      "   id\n",
      "    Pattern: ^$\n",
      "    Length : 0\n",
      "   type\n",
      "    Pattern: ^[A-Za-z0-9_-]*$\n",
      "    Length : 16\n",
      "/wishlist/view/38\n",
      "   type\n",
      "    Pattern: ^[A-Za-z0-9_-]*$\n",
      "    Length : 16\n",
      "   id\n",
      "    Pattern: ^$\n",
      "    Length : 0\n",
      "   name\n",
      "    Pattern: ^[A-Za-z0-9_-]*$\n",
      "    Length : 16\n",
      "   search\n",
      "    Pattern: ^[A-Za-z0-9_-]*$\n",
      "    Length : 16\n",
      "/wishlist/view/4\n",
      "   type\n",
      "    Pattern: ^[A-Za-z0-9_-]*$\n",
      "    Length : 16\n",
      "   id\n",
      "    Pattern: ^$\n",
      "    Length : 0\n",
      "   name\n",
      "    Pattern: ^[A-Za-z0-9_-]*$\n",
      "    Length : 16\n",
      "   search\n",
      "    Pattern: ^[A-Za-z0-9_-]*$\n",
      "    Length : 16\n",
      "/wishlist/view/34\n",
      "   name\n",
      "    Pattern: ^[A-Za-z0-9_-]*$\n",
      "    Length : 16\n",
      "   type\n",
      "    Pattern: ^[A-Za-z0-9_-]*$\n",
      "    Length : 16\n",
      "   id\n",
      "    Pattern: ^$\n",
      "    Length : 0\n",
      "   search\n",
      "    Pattern: ^[A-Za-z0-9_-]*$\n",
      "    Length : 16\n",
      "/wishlist/view/32\n",
      "   name\n",
      "    Pattern: ^[A-Za-z0-9_-]*$\n",
      "    Length : 16\n",
      "   type\n",
      "    Pattern: ^[A-Za-z0-9_-]*$\n",
      "    Length : 16\n",
      "   id\n",
      "    Pattern: ^$\n",
      "    Length : 0\n",
      "   search\n",
      "    Pattern: ^[A-Za-z0-9_-]*$\n",
      "    Length : 16\n",
      "/wishlist/view/27\n",
      "   name\n",
      "    Pattern: ^[A-Za-z0-9_-]*$\n",
      "    Length : 16\n",
      "   type\n",
      "    Pattern: ^[A-Za-z0-9_-]*$\n",
      "    Length : 16\n",
      "   id\n",
      "    Pattern: ^$\n",
      "    Length : 0\n",
      "   search\n",
      "    Pattern: ^[A-Za-z0-9_-]*$\n",
      "    Length : 16\n",
      "/wishlist/view/39\n",
      "   name\n",
      "    Pattern: ^[A-Za-z0-9_-]*$\n",
      "    Length : 16\n",
      "   type\n",
      "    Pattern: ^[A-Za-z0-9_-]*$\n",
      "    Length : 16\n",
      "   id\n",
      "    Pattern: ^$\n",
      "    Length : 0\n",
      "   search\n",
      "    Pattern: ^[A-Za-z0-9_-]*$\n",
      "    Length : 16\n",
      "/wishlist/view/40\n",
      "   name\n",
      "    Pattern: ^[A-Za-z0-9_-]*$\n",
      "    Length : 16\n",
      "   type\n",
      "    Pattern: ^[A-Za-z0-9_-]*$\n",
      "    Length : 16\n",
      "   id\n",
      "    Pattern: ^$\n",
      "    Length : 0\n",
      "   search\n",
      "    Pattern: ^[A-Za-z0-9_-]*$\n",
      "    Length : 16\n",
      "/wishlist/view/35\n",
      "   name\n",
      "    Pattern: ^[A-Za-z0-9_-]*$\n",
      "    Length : 16\n",
      "   type\n",
      "    Pattern: ^[A-Za-z0-9_-]*$\n",
      "    Length : 16\n",
      "   id\n",
      "    Pattern: ^$\n",
      "    Length : 0\n",
      "   search\n",
      "    Pattern: ^[A-Za-z0-9_-]*$\n",
      "    Length : 16\n",
      "/wishlist/view/25\n",
      "   name\n",
      "    Pattern: ^[A-Za-z0-9_-]*$\n",
      "    Length : 16\n",
      "   type\n",
      "    Pattern: ^[A-Za-z0-9_-]*$\n",
      "    Length : 16\n",
      "   id\n",
      "    Pattern: ^$\n",
      "    Length : 0\n",
      "   search\n",
      "    Pattern: ^[A-Za-z0-9_-]*$\n",
      "    Length : 16\n",
      "/wishlist/view/31\n",
      "   id\n",
      "    Pattern: ^$\n",
      "    Length : 0\n",
      "   name\n",
      "    Pattern: ^[A-Za-z0-9_-]*$\n",
      "    Length : 16\n",
      "   type\n",
      "    Pattern: ^[A-Za-z0-9_-]*$\n",
      "    Length : 16\n",
      "   search\n",
      "    Pattern: ^[A-Za-z0-9_-]*$\n",
      "    Length : 16\n",
      "/wishlist/view/21\n",
      "   name\n",
      "    Pattern: ^[A-Za-z0-9_-]*$\n",
      "    Length : 16\n",
      "   id\n",
      "    Pattern: ^$\n",
      "    Length : 0\n",
      "   type\n",
      "    Pattern: ^[A-Za-z0-9_-]*$\n",
      "    Length : 16\n",
      "   search\n",
      "    Pattern: ^[A-Za-z0-9_-]*$\n",
      "    Length : 16\n",
      "/wishlist/view/36\n",
      "   type\n",
      "    Pattern: ^[A-Za-z0-9_-]*$\n",
      "    Length : 16\n",
      "   id\n",
      "    Pattern: ^$\n",
      "    Length : 0\n",
      "   name\n",
      "    Pattern: ^[A-Za-z0-9_-]*$\n",
      "    Length : 16\n",
      "   search\n",
      "    Pattern: ^[A-Za-z0-9_-]*$\n",
      "    Length : 16\n",
      "/wishlist/view/29\n",
      "   name\n",
      "    Pattern: ^[A-Za-z0-9_-]*$\n",
      "    Length : 16\n",
      "   type\n",
      "    Pattern: ^[A-Za-z0-9_-]*$\n",
      "    Length : 16\n",
      "   id\n",
      "    Pattern: ^$\n",
      "    Length : 0\n",
      "   search\n",
      "    Pattern: ^[A-Za-z0-9_-]*$\n",
      "    Length : 16\n",
      "/wishlist/view/30\n",
      "   name\n",
      "    Pattern: ^[A-Za-z0-9_-]*$\n",
      "    Length : 16\n",
      "   id\n",
      "    Pattern: ^$\n",
      "    Length : 0\n",
      "   type\n",
      "    Pattern: ^[A-Za-z0-9_-]*$\n",
      "    Length : 16\n",
      "   search\n",
      "    Pattern: ^[A-Za-z0-9_-]*$\n",
      "    Length : 16\n",
      "/wishlist/view/42\n",
      "   id\n",
      "    Pattern: ^$\n",
      "    Length : 0\n",
      "   name\n",
      "    Pattern: ^[A-Za-z0-9_-]*$\n",
      "    Length : 16\n",
      "   type\n",
      "    Pattern: ^[A-Za-z0-9_-]*$\n",
      "    Length : 16\n",
      "   search\n",
      "    Pattern: ^[A-Za-z0-9_-]*$\n",
      "    Length : 16\n",
      "/wishlist/view/26\n",
      "   name\n",
      "    Pattern: ^[A-Za-z0-9_-]*$\n",
      "    Length : 16\n",
      "   type\n",
      "    Pattern: ^[A-Za-z0-9_-]*$\n",
      "    Length : 16\n",
      "   id\n",
      "    Pattern: ^$\n",
      "    Length : 0\n",
      "   search\n",
      "    Pattern: ^[A-Za-z0-9_-]*$\n",
      "    Length : 16\n",
      "/wishlist/view/33\n",
      "   name\n",
      "    Pattern: ^[A-Za-z0-9_-]*$\n",
      "    Length : 16\n",
      "   type\n",
      "    Pattern: ^[A-Za-z0-9_-]*$\n",
      "    Length : 16\n",
      "   id\n",
      "    Pattern: ^$\n",
      "    Length : 0\n",
      "   search\n",
      "    Pattern: ^[A-Za-z0-9_-]*$\n",
      "    Length : 16\n",
      "/wishlist/view/28\n",
      "   name\n",
      "    Pattern: ^[A-Za-z0-9_-]*$\n",
      "    Length : 16\n",
      "   type\n",
      "    Pattern: ^[A-Za-z0-9_-]*$\n",
      "    Length : 16\n",
      "   id\n",
      "    Pattern: ^$\n",
      "    Length : 0\n",
      "   search\n",
      "    Pattern: ^[A-Za-z0-9_-]*$\n",
      "    Length : 16\n",
      "/wishlist/view/24\n",
      "   name\n",
      "    Pattern: ^[A-Za-z0-9_-]*$\n",
      "    Length : 16\n",
      "   type\n",
      "    Pattern: ^[A-Za-z0-9_-]*$\n",
      "    Length : 16\n",
      "   id\n",
      "    Pattern: ^$\n",
      "    Length : 0\n",
      "   search\n",
      "    Pattern: ^[A-Za-z0-9_-]*$\n",
      "    Length : 16\n",
      "/wishlist/view/22\n",
      "   name\n",
      "    Pattern: ^[A-Za-z0-9_-]*$\n",
      "    Length : 16\n",
      "   type\n",
      "    Pattern: ^[A-Za-z0-9_-]*$\n",
      "    Length : 16\n",
      "   id\n",
      "    Pattern: ^$\n",
      "    Length : 0\n",
      "   search\n",
      "    Pattern: ^[A-Za-z0-9_-]*$\n",
      "    Length : 16\n",
      "/wishlist/view/37\n",
      "   name\n",
      "    Pattern: ^[A-Za-z0-9_-]*$\n",
      "    Length : 16\n",
      "   type\n",
      "    Pattern: ^[A-Za-z0-9_-]*$\n",
      "    Length : 16\n",
      "   id\n",
      "    Pattern: ^$\n",
      "    Length : 0\n",
      "   search\n",
      "    Pattern: ^[A-Za-z0-9_-]*$\n",
      "    Length : 16\n",
      "/wishlist/view/41\n",
      "   name\n",
      "    Pattern: ^[A-Za-z0-9_-]*$\n",
      "    Length : 16\n",
      "   type\n",
      "    Pattern: ^[A-Za-z0-9_-]*$\n",
      "    Length : 16\n",
      "   id\n",
      "    Pattern: ^$\n",
      "    Length : 0\n",
      "   search\n",
      "    Pattern: ^[A-Za-z0-9_-]*$\n",
      "    Length : 16\n",
      "/wishlist/view/23\n",
      "   name\n",
      "    Pattern: ^[A-Za-z0-9_-]*$\n",
      "    Length : 16\n",
      "   type\n",
      "    Pattern: ^[A-Za-z0-9_-]*$\n",
      "    Length : 16\n",
      "   id\n",
      "    Pattern: ^$\n",
      "    Length : 0\n",
      "   search\n",
      "    Pattern: ^[A-Za-z0-9_-]*$\n",
      "    Length : 16\n",
      "/wishlist/view/20\n",
      "   name\n",
      "    Pattern: ^[A-Za-z0-9_-]*$\n",
      "    Length : 16\n",
      "   id\n",
      "    Pattern: ^$\n",
      "    Length : 0\n",
      "   type\n",
      "    Pattern: ^[A-Za-z0-9_-]*$\n",
      "    Length : 16\n",
      "   search\n",
      "    Pattern: ^[A-Za-z0-9_-]*$\n",
      "    Length : 16\n",
      "/wishlist/view/3\n",
      "   name\n",
      "    Pattern: ^[A-Za-z0-9_-]*$\n",
      "    Length : 16\n",
      "   type\n",
      "    Pattern: ^[A-Za-z0-9_-]*$\n",
      "    Length : 16\n",
      "   id\n",
      "    Pattern: ^$\n",
      "    Length : 0\n",
      "   search\n",
      "    Pattern: ^[A-Za-z0-9_-]*$\n",
      "    Length : 16\n",
      "/wishlist/\n",
      "   name\n",
      "    Pattern: ^[A-Za-z0-9_-]*$\n",
      "    Length : 16\n",
      "   id\n",
      "    Pattern: ^$\n",
      "    Length : 0\n",
      "   type\n",
      "    Pattern: ^[A-Za-z0-9_-]*$\n",
      "    Length : 16\n",
      "   search\n",
      "    Pattern: ^[A-Za-z0-9_-]*$\n",
      "    Length : 16\n"
     ]
    }
   ],
   "source": [
    "print_auto_promoted_rules(demo_env, api, headers = demo_env['headers'], proxies = demo_env['proxies'])"
   ]
  },
  {
   "cell_type": "markdown",
   "metadata": {},
   "source": [
    "###  <a name=\"TestPSRules\">Testing auto programmed rules</a>\n",
    "\n",
    "Test the programmed rules. Try to change the id parameter to something else than digits.\n",
    "\n",
    "=> **See Hackazon Application WAF log view in Avi Controller UI**"
   ]
  },
  {
   "cell_type": "code",
   "execution_count": 36,
   "metadata": {},
   "outputs": [
    {
     "name": "stdout",
     "output_type": "stream",
     "text": [
      "https://waf-hackazon-vs.sa.vclass.local/product/view?id=16aasd\n",
      "Request status code: 403\n",
      "Fetching Request-ID\n",
      "Request-ID of the request: 62q-uWDw-fsUl\n"
     ]
    }
   ],
   "source": [
    "url = f'https://{hackazon_vip}/product/view?id=16aasd'\n",
    "logs = send_get(url, headers = demo_env['headers'], proxies = demo_env['proxies'])"
   ]
  },
  {
   "cell_type": "markdown",
   "metadata": {},
   "source": [
    "Requests that do not comply with the learned policy are blocked with 403."
   ]
  },
  {
   "cell_type": "markdown",
   "metadata": {},
   "source": [
    "## Conclusion:\n",
    "\n",
    "The Learning mode with auto-promoting rules has already learned a high percentage of the params and therefore can enforce valid application behavior.\n",
    "\n",
    "These params are now bypassed from Signature checking.\n",
    "To review the percentage:"
   ]
  },
  {
   "cell_type": "code",
   "execution_count": 37,
   "metadata": {},
   "outputs": [
    {
     "name": "stdout",
     "output_type": "stream",
     "text": [
      "Current learning meta data:\n",
      "{'duration': '0 hrs, 8 mins',\n",
      " 'pct_high_confidence_params': 94.0,\n",
      " 'total_params': 285,\n",
      " 'total_requests': 4450,\n",
      " 'total_uris': 527}\n"
     ]
    }
   ],
   "source": [
    "print_learned_data(demo_env, api, headers = demo_env['headers'], proxies = demo_env['proxies'])"
   ]
  },
  {
   "cell_type": "markdown",
   "metadata": {},
   "source": [
    "# <a name=\"Signatures\">Signatures</a>\n",
    "\n",
    "Last part of the demo is concerning the Signature Engine\n",
    "\n",
    "<img src=\"files/overview_signatures.png\" style=\"width:800px\" />\n",
    "\n",
    "Exploit an attack on the Hackazon application.\n",
    "\n",
    "<img src=\"files/manual_attack.png\">\n",
    "\n",
    "The search field is vulnerable to Cross-Site-Scripting.\n",
    "The attack payload for this test will be \n",
    "````\n",
    "<script>prompt(\"Please enter your Password\", \"\")</script>\n",
    "```"
   ]
  },
  {
   "cell_type": "code",
   "execution_count": 38,
   "metadata": {},
   "outputs": [
    {
     "name": "stdout",
     "output_type": "stream",
     "text": [
      "Learning group enabled: False\n"
     ]
    }
   ],
   "source": [
    "# Setup all the things\n",
    "change_policy_mode(api, demo_env, \"Hackazon\", \"WAF_MODE_DETECTION_ONLY\")\n",
    "enable_learning_group(api, demo_env, \"Hackazon\", False)"
   ]
  },
  {
   "cell_type": "code",
   "execution_count": 39,
   "metadata": {
    "scrolled": true
   },
   "outputs": [
    {
     "name": "stdout",
     "output_type": "stream",
     "text": [
      "https://waf-hackazon-vs.sa.vclass.local/search?id=&searchString=<script>prompt(\"PleaseEnterYourPassword\",\"\")</script>\n",
      "Request status code: 200\n",
      "Fetching Request-ID\n"
     ]
    },
    {
     "data": {
      "text/plain": [
       "'3zv-h70Z-viUW'"
      ]
     },
     "execution_count": 39,
     "metadata": {},
     "output_type": "execute_result"
    }
   ],
   "source": [
    "payload = '<script>prompt(\"PleaseEnterYourPassword\",\"\")</script>'\n",
    "url = f'https://{hackazon_vip}/search?id=&searchString={payload}'\n",
    "send_get(url, headers = demo_env['headers'], proxies = demo_env['proxies'])"
   ]
  },
  {
   "cell_type": "markdown",
   "metadata": {},
   "source": [
    "The WAF is currently in **Detection mode** therefore the attack is not blocked.<br />\n",
    "\n",
    "<img src=\"files/xss_attack.png\" style=\"width:600px\" />\n",
    "\n",
    "=> **See Hackazon Application Log view in Avi Controller UI**\n",
    "\n",
    "For the WAF to block this attack, the mode needs to be changed into **Enforcement**."
   ]
  },
  {
   "cell_type": "code",
   "execution_count": 40,
   "metadata": {},
   "outputs": [
    {
     "data": {
      "text/plain": [
       "<Response [200]>"
      ]
     },
     "execution_count": 40,
     "metadata": {},
     "output_type": "execute_result"
    }
   ],
   "source": [
    "# Change the WAF Policy mode\n",
    "change_policy_mode(api, demo_env, 'Hackazon', 'WAF_MODE_ENFORCEMENT')"
   ]
  },
  {
   "cell_type": "markdown",
   "metadata": {},
   "source": [
    "API responds with a 200 OK, that the change was done successfully.\n",
    "\n",
    "If the attack is re-run, it will now be blocked with a **403**."
   ]
  },
  {
   "cell_type": "code",
   "execution_count": 41,
   "metadata": {},
   "outputs": [
    {
     "name": "stdout",
     "output_type": "stream",
     "text": [
      "https://waf-hackazon-vs.sa.vclass.local/search?id=&searchString=<script>prompt(\"PleaseEnterYourPassword\",\"\")</script>\n",
      "Request status code: 403\n",
      "Fetching Request-ID\n",
      "Request-ID of the request: bUD-W1b9-5J5D\n"
     ]
    },
    {
     "data": {
      "text/plain": [
       "'bUD-W1b9-5J5D'"
      ]
     },
     "execution_count": 41,
     "metadata": {},
     "output_type": "execute_result"
    }
   ],
   "source": [
    "# Attack re-run \n",
    "payload = '<script>prompt(\"PleaseEnterYourPassword\",\"\")</script>'\n",
    "url = f'https://{hackazon_vip}/search?id=&searchString={payload}'\n",
    "send_get(url, headers = demo_env['headers'], proxies = demo_env['proxies'])"
   ]
  },
  {
   "cell_type": "markdown",
   "metadata": {},
   "source": [
    "The status code of 403 showcases that the attack is now blocked.\n",
    "\n"
   ]
  },
  {
   "cell_type": "markdown",
   "metadata": {},
   "source": [
    "## <a name=\"Exclusions\">Exclusions (Policy tuning)</a>\n",
    "\n",
    "There can be instances, where a valid request gets blocked. That is called a false-positive.\n",
    "Unfortunately false-positives happen. But there are tuning options to get rid of them quickly.\n",
    "\n",
    "In the following the user is trying to enter a question into the Hackazon FAQ.\n",
    "\n",
    "```\n",
    "What about ordering Beer? Hey; :-> Is there a table where I can, say; select from * all * my favorite beers?\n",
    "```\n",
    "\n",
    "When sending this payload it gets denied, because the policy rules falsely mark it as an attack."
   ]
  },
  {
   "cell_type": "code",
   "execution_count": 42,
   "metadata": {},
   "outputs": [
    {
     "name": "stdout",
     "output_type": "stream",
     "text": [
      "https://waf-hackazon-vs.sa.vclass.local/faq\n",
      "Request status code: 403\n",
      "Fetching Request-ID\n",
      "Request-ID of the request: kme-tcuX-hDRw\n"
     ]
    }
   ],
   "source": [
    "payload = \"userEmail=goaway%40mailinator.com&userQuestion=What+about+ordering+Beer%3F+Hey%3B+%3A-%3E+Is+there+a+table+where+I+can%2C+say%3B+select+from+*+all+*+my+favorite+beers%3F+&_csrf_faq=9bFfqUaud0SuzsKDt0z2Canq7J7bEC74\"\n",
    "url = f'https://{hackazon_vip}/faq'    \n",
    "request_id = send_post(url, payload, headers = demo_env['headers'], proxies = demo_env['proxies'])"
   ]
  },
  {
   "cell_type": "markdown",
   "metadata": {},
   "source": [
    "Lets look at that log file entry:\n",
    "\n",
    "<img src=\"files/signature_log_rce.png\" style=\"width:800px\" />"
   ]
  },
  {
   "cell_type": "code",
   "execution_count": 43,
   "metadata": {
    "scrolled": true
   },
   "outputs": [
    {
     "name": "stdout",
     "output_type": "stream",
     "text": [
      "\n",
      "Log query result: 1 entries found\n",
      "\n",
      "Log line details:\n",
      "Host: - waf-hackazon-vs.sa.vclass.local\n",
      "Client IP: - 172.20.130.104\n",
      "Response Code: - 403\n",
      "Request_URI: - /faq\n",
      "Significance: - Request ended abnormally: response code 4xx, WAF Match: WAF matched the transaction\n",
      "WAF Specific Log\n",
      "Rule Group: - CRS_931_OWASP_TOP10_2013_A1_Injection\n",
      "Rule ID: - 932115\n",
      "Rule NAME: - Check for Command Injection: Windows (1/3)\n",
      "Match Element: - ARGS:userQuestion\n",
      "Block Message: - Remote Command Execution: Windows Command Injection\n",
      "Attack String: - What about ordering Beer? Hey; :-> Is there a table where I can, say; select from * all * my favorite beers? \n"
     ]
    }
   ],
   "source": [
    "logs = print_log_entry(api, demo_env, \"Hackazon\", request_id)"
   ]
  },
  {
   "cell_type": "markdown",
   "metadata": {},
   "source": [
    "To allow this request an Exclusion needs to be created.\n",
    "\n",
    "* Run the code to create an Exclusion that will assigned to a rule itself of an entire group."
   ]
  },
  {
   "cell_type": "code",
   "execution_count": 44,
   "metadata": {},
   "outputs": [
    {
     "name": "stdout",
     "output_type": "stream",
     "text": [
      "------------------------------------\n",
      "Creating exclusion\n",
      "execute rule exclusion\n",
      "[{'match_element': 'ARGS:userQuestion',\n",
      "  'uri_match_criteria': {'match_case': 'SENSITIVE', 'match_op': 'EQUALS'},\n",
      "  'uri_path': '/faq'}]\n"
     ]
    }
   ],
   "source": [
    "#Choose scope for exclusion creation.\n",
    "#scope = \"group\"\n",
    "scope = \"rule\"\n",
    "logline = logs['results'][0]\n",
    "create_exclusions(api, demo_env, \"Hackazon\", logline, scope)"
   ]
  },
  {
   "cell_type": "markdown",
   "metadata": {},
   "source": [
    "Exclusion was **created** for the rule of the log entry.\n",
    "\n",
    "<img src=\"files/exclusion_rce_log_workflow.png\" style=\"width:500px\" />\n",
    "\n",
    "<br/>\n",
    "* Run the code to send the payload again:"
   ]
  },
  {
   "cell_type": "code",
   "execution_count": 45,
   "metadata": {
    "scrolled": true
   },
   "outputs": [
    {
     "name": "stdout",
     "output_type": "stream",
     "text": [
      "https://waf-hackazon-vs.sa.vclass.local/faq\n",
      "Request status code: 403\n",
      "Fetching Request-ID\n",
      "Request-ID of the request: 3tL-Iwbo-UOZo\n"
     ]
    }
   ],
   "source": [
    "payload = \"userEmail=goaway%40mailinator.com&userQuestion=What+about+ordering+Beer%3F+Hey%3B+%3A-%3E+Is+there+a+table+where+I+can%2C+say%3B+select+from+*+all+*+my+favorite+beers%3F+&_csrf_faq=9bFfqUaud0SuzsKDt0z2Canq7J7bEC74\"\n",
    "url = f'https://{hackazon_vip}/faq'    \n",
    "request_id = send_post(url, payload, headers = demo_env['headers'], proxies = demo_env['proxies'])"
   ]
  },
  {
   "cell_type": "markdown",
   "metadata": {},
   "source": [
    "Check the log entry again, since it is still **blocked** with 403."
   ]
  },
  {
   "cell_type": "code",
   "execution_count": 46,
   "metadata": {},
   "outputs": [
    {
     "name": "stdout",
     "output_type": "stream",
     "text": [
      "\n",
      "Log query result: 1 entries found\n",
      "\n",
      "Log line details:\n",
      "Host: - waf-hackazon-vs.sa.vclass.local\n",
      "Client IP: - 172.20.130.104\n",
      "Response Code: - 403\n",
      "Request_URI: - /faq\n",
      "Significance: - Request ended abnormally: response code 4xx, WAF Match: WAF matched the transaction\n",
      "WAF Specific Log\n",
      "Rule Group: - CRS_931_OWASP_TOP10_2013_A1_Injection\n",
      "Rule ID: - 942350\n",
      "Rule NAME: - Check for SQL Injection (8/33)\n",
      "Match Element: - ARGS:userQuestion\n",
      "Block Message: - Detects MySQL UDF injection and other data/structure manipulation attempts\n",
      "Attack String: - What about ordering Beer? Hey; :-> Is there a table where I can, say; select from * all * my favorite beers? \n"
     ]
    }
   ],
   "source": [
    "logs = print_log_entry(api, demo_env, \"Hackazon\", request_id)"
   ]
  },
  {
   "cell_type": "code",
   "execution_count": 47,
   "metadata": {
    "scrolled": true
   },
   "outputs": [
    {
     "name": "stdout",
     "output_type": "stream",
     "text": [
      "------------------------------------\n",
      "Creating exclusion\n",
      "execute group exclusion\n",
      "[{'match_element': 'ARGS:userQuestion',\n",
      "  'uri_match_criteria': {'match_case': 'SENSITIVE', 'match_op': 'EQUALS'},\n",
      "  'uri_path': '/faq'}]\n"
     ]
    }
   ],
   "source": [
    "#Choose scope for exclusion creation.\n",
    "scope = \"group\"\n",
    "#scope = \"rule\"\n",
    "logline = logs['results'][0]\n",
    "create_exclusions(api, demo_env, \"Hackazon\", logline, scope)"
   ]
  },
  {
   "cell_type": "markdown",
   "metadata": {},
   "source": [
    "Exclusion was **created** for the **group** of the log entry."
   ]
  },
  {
   "cell_type": "code",
   "execution_count": 48,
   "metadata": {},
   "outputs": [
    {
     "name": "stdout",
     "output_type": "stream",
     "text": [
      "https://waf-hackazon-vs.sa.vclass.local/faq\n",
      "Request status code: 200\n",
      "Fetching Request-ID\n"
     ]
    }
   ],
   "source": [
    "payload = \"userEmail=goaway%40mailinator.com&userQuestion=What+about+ordering+Beer%3F+Hey%3B+%3A-%3E+Is+there+a+table+where+I+can%2C+say%3B+select+from+*+all+*+my+favorite+beers%3F+&_csrf_faq=9bFfqUaud0SuzsKDt0z2Canq7J7bEC74\"\n",
    "url = f'https://{hackazon_vip}/faq'    \n",
    "request_id = send_post(url, payload, headers = demo_env['headers'], proxies = demo_env['proxies'])"
   ]
  },
  {
   "cell_type": "markdown",
   "metadata": {},
   "source": [
    "Now that exclusions have been created the request with the false-positive is allowed.\n",
    "It results in a 200.\n",
    "(In this case it needs 2 exclusions to fully allow the request.)\n",
    "\n",
    "It is both possible to create these exclusions in the UI as well as through the API.\n",
    "This is important since custom build self service portals can easily include an exclusion mechanism.\n",
    "\n",
    "=> **See Hackazon Application WAF Policy view in Avi Controller UI**"
   ]
  },
  {
   "cell_type": "markdown",
   "metadata": {},
   "source": [
    "## <a name=\"Cleanup\">Cleanup the Demo System</a>\n",
    "\n",
    "\n",
    "The next command will clean the Demo system from all configured items."
   ]
  },
  {
   "cell_type": "code",
   "execution_count": 22,
   "metadata": {
    "scrolled": false
   },
   "outputs": [
    {
     "name": "stdout",
     "output_type": "stream",
     "text": [
      "Cleaning up Demo:DVWA\n",
      "- Delete Virtual Service: <Response [204]> \n",
      "- Delete Pool: <Response [204]> \n",
      "- Delete ErrorPageProfile <Response [204]> \n",
      "- Delete WAFPolicy: <Response [204]> \n"
     ]
    },
    {
     "name": "stderr",
     "output_type": "stream",
     "text": [
      "Warning: Object Not found for wafpolicypsmgroup named WAF-DVWA_Learning_Group_Demo\n"
     ]
    },
    {
     "name": "stdout",
     "output_type": "stream",
     "text": [
      "- Delete WAFProfile: <Response [204]> \n",
      "wafpolicypsmgroup/WAF-DVWA_Learning_Group_Demo\n",
      "- Delete DataScriptSets: <Response [204]> \n",
      "Cleaning up Demo:Hackazon\n",
      "- Delete Virtual Service: <Response [204]> \n",
      "- Delete Pool: <Response [204]> \n",
      "- Delete ErrorPageProfile <Response [204]> \n",
      "- Delete WAFPolicy: <Response [204]> \n",
      "- Delete WAFProfile: <Response [204]> \n",
      "- Delete LearningGroup: <Response [204]> \n",
      "- Delete DataScriptSets: <Response [204]> \n"
     ]
    }
   ],
   "source": [
    "testbed_cleanup(demo_env)"
   ]
  },
  {
   "cell_type": "code",
   "execution_count": null,
   "metadata": {},
   "outputs": [],
   "source": []
  }
 ],
 "metadata": {
  "kernelspec": {
   "display_name": "Python 3",
   "language": "python",
   "name": "python3"
  },
  "language_info": {
   "codemirror_mode": {
    "name": "ipython",
    "version": 3
   },
   "file_extension": ".py",
   "mimetype": "text/x-python",
   "name": "python",
   "nbconvert_exporter": "python",
   "pygments_lexer": "ipython3",
   "version": "3.8.1"
  }
 },
 "nbformat": 4,
 "nbformat_minor": 4
}
